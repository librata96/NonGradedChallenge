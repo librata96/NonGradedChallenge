{
 "cells": [
  {
   "cell_type": "code",
   "execution_count": 1,
   "id": "46c76341",
   "metadata": {},
   "outputs": [
    {
     "name": "stdout",
     "output_type": "stream",
     "text": [
      "402\n",
      "984\n",
      "360\n",
      "408\n",
      "980\n",
      "544\n",
      "390\n",
      "984\n",
      "592\n",
      "236\n",
      "942\n",
      "386\n",
      "462\n",
      "418\n",
      "344\n",
      "236\n",
      "566\n",
      "978\n",
      "328\n",
      "162\n",
      "758\n",
      "918\n",
      "Done\n"
     ]
    }
   ],
   "source": [
    "# Buat list berisi angka sesuai soal\n",
    "numbers = [ 951, 402, 984, 651, 360, 69, 408, 319, 601, 485, 980, 507, 725, 547,\n",
    "             544, 615, 83, 165, 141, 501, 263, 617, 865, 575, 219, 390, 984, 592, \n",
    "             236, 105, 942, 941, 386, 462, 47, 418, 907, 344, 236, 375, 823, 566, \n",
    "             597, 978, 328, 615, 953,345, 399, 162, 758, 219, 918, 237, 412, 566, 826, 248, 866, 950, 626, 949]\n",
    "\n",
    "# Iterasi masing masing angka pada list dan masukkan ke dalam variabel i\n",
    "for i in (numbers):\n",
    "# Cek kondisi variabel i apakah bilangan genap atau ganjil dengan modulus\n",
    "    if i%2 == 0:\n",
    "# Print isi dari variabel i \n",
    "        print(i)\n",
    "# Cek isi variabel i apakah equal dengan 918\n",
    "        if i == 918:\n",
    "# Jika kondisi i = 918 terpenuhi jalankan fungsi break\n",
    "            break;\n",
    "# Print Done setelah iterasi selesai\n",
    "print('Done')\n",
    "    "
   ]
  },
  {
   "cell_type": "code",
   "execution_count": null,
   "id": "1d7a8127",
   "metadata": {},
   "outputs": [],
   "source": []
  }
 ],
 "metadata": {
  "kernelspec": {
   "display_name": "Python 3 (ipykernel)",
   "language": "python",
   "name": "python3"
  },
  "language_info": {
   "codemirror_mode": {
    "name": "ipython",
    "version": 3
   },
   "file_extension": ".py",
   "mimetype": "text/x-python",
   "name": "python",
   "nbconvert_exporter": "python",
   "pygments_lexer": "ipython3",
   "version": "3.9.13"
  }
 },
 "nbformat": 4,
 "nbformat_minor": 5
}
