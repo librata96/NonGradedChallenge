{
 "cells": [
  {
   "cell_type": "markdown",
   "metadata": {},
   "source": [
    "# Non Graded Challenge 10\n",
    "\n",
    "`Dicky Librata Sembiring`\\\n",
    "`Hactive8 Student`\\\n",
    "`FTDS Batch 003` "
   ]
  },
  {
   "cell_type": "markdown",
   "metadata": {},
   "source": [
    "### Objective\n",
    "Pada Non Graded Challenge berikut berisi :\n",
    "1. Mencari measure of central tendency\n",
    "2. Mencari variance dari sebuah data set"
   ]
  },
  {
   "cell_type": "markdown",
   "metadata": {},
   "source": [
    "#### Import Pustaka"
   ]
  },
  {
   "cell_type": "code",
   "execution_count": 13,
   "metadata": {},
   "outputs": [],
   "source": [
    "import matplotlib.pyplot as plt\n",
    "import pandas as pd\n",
    "import numpy as np\n",
    "pd.options.display.max_columns = 100"
   ]
  },
  {
   "cell_type": "markdown",
   "metadata": {},
   "source": [
    "#### Answer"
   ]
  },
  {
   "cell_type": "markdown",
   "metadata": {},
   "source": [
    "Baca data dari csv dan cek info"
   ]
  },
  {
   "cell_type": "code",
   "execution_count": 14,
   "metadata": {},
   "outputs": [
    {
     "name": "stdout",
     "output_type": "stream",
     "text": [
      "<class 'pandas.core.frame.DataFrame'>\n",
      "RangeIndex: 31822 entries, 0 to 31821\n",
      "Data columns (total 38 columns):\n",
      " #   Column                       Non-Null Count  Dtype  \n",
      "---  ------                       --------------  -----  \n",
      " 0   Date                         31822 non-null  object \n",
      " 1   Location ISO Code            31822 non-null  object \n",
      " 2   Location                     31822 non-null  object \n",
      " 3   New Cases                    31822 non-null  int64  \n",
      " 4   New Deaths                   31822 non-null  int64  \n",
      " 5   New Recovered                31822 non-null  int64  \n",
      " 6   New Active Cases             31822 non-null  int64  \n",
      " 7   Total Cases                  31822 non-null  int64  \n",
      " 8   Total Deaths                 31822 non-null  int64  \n",
      " 9   Total Recovered              31822 non-null  int64  \n",
      " 10  Total Active Cases           31822 non-null  int64  \n",
      " 11  Location Level               31822 non-null  object \n",
      " 12  City or Regency              0 non-null      float64\n",
      " 13  Province                     30893 non-null  object \n",
      " 14  Country                      31822 non-null  object \n",
      " 15  Continent                    31822 non-null  object \n",
      " 16  Island                       30893 non-null  object \n",
      " 17  Time Zone                    30893 non-null  object \n",
      " 18  Special Status               4558 non-null   object \n",
      " 19  Total Regencies              31822 non-null  int64  \n",
      " 20  Total Cities                 30921 non-null  float64\n",
      " 21  Total Districts              31822 non-null  int64  \n",
      " 22  Total Urban Villages         30918 non-null  float64\n",
      " 23  Total Rural Villages         30893 non-null  float64\n",
      " 24  Area (km2)                   31822 non-null  int64  \n",
      " 25  Population                   31822 non-null  int64  \n",
      " 26  Population Density           31822 non-null  float64\n",
      " 27  Longitude                    31822 non-null  float64\n",
      " 28  Latitude                     31822 non-null  float64\n",
      " 29  New Cases per Million        31822 non-null  float64\n",
      " 30  Total Cases per Million      31822 non-null  float64\n",
      " 31  New Deaths per Million       31822 non-null  float64\n",
      " 32  Total Deaths per Million     31822 non-null  float64\n",
      " 33  Total Deaths per 100rb       31822 non-null  float64\n",
      " 34  Case Fatality Rate           31822 non-null  object \n",
      " 35  Case Recovered Rate          31822 non-null  object \n",
      " 36  Growth Factor of New Cases   29883 non-null  float64\n",
      " 37  Growth Factor of New Deaths  28375 non-null  float64\n",
      "dtypes: float64(14), int64(12), object(12)\n",
      "memory usage: 9.2+ MB\n"
     ]
    }
   ],
   "source": [
    "df = pd.read_csv('covid_19_indonesia_time_series_all.csv')\n",
    "df.info()"
   ]
  },
  {
   "cell_type": "markdown",
   "metadata": {},
   "source": [
    "Select data numerik"
   ]
  },
  {
   "cell_type": "code",
   "execution_count": 15,
   "metadata": {},
   "outputs": [
    {
     "name": "stdout",
     "output_type": "stream",
     "text": [
      "<class 'pandas.core.frame.DataFrame'>\n",
      "RangeIndex: 31822 entries, 0 to 31821\n",
      "Data columns (total 26 columns):\n",
      " #   Column                       Non-Null Count  Dtype  \n",
      "---  ------                       --------------  -----  \n",
      " 0   New Cases                    31822 non-null  int64  \n",
      " 1   New Deaths                   31822 non-null  int64  \n",
      " 2   New Recovered                31822 non-null  int64  \n",
      " 3   New Active Cases             31822 non-null  int64  \n",
      " 4   Total Cases                  31822 non-null  int64  \n",
      " 5   Total Deaths                 31822 non-null  int64  \n",
      " 6   Total Recovered              31822 non-null  int64  \n",
      " 7   Total Active Cases           31822 non-null  int64  \n",
      " 8   City or Regency              0 non-null      float64\n",
      " 9   Total Regencies              31822 non-null  int64  \n",
      " 10  Total Cities                 30921 non-null  float64\n",
      " 11  Total Districts              31822 non-null  int64  \n",
      " 12  Total Urban Villages         30918 non-null  float64\n",
      " 13  Total Rural Villages         30893 non-null  float64\n",
      " 14  Area (km2)                   31822 non-null  int64  \n",
      " 15  Population                   31822 non-null  int64  \n",
      " 16  Population Density           31822 non-null  float64\n",
      " 17  Longitude                    31822 non-null  float64\n",
      " 18  Latitude                     31822 non-null  float64\n",
      " 19  New Cases per Million        31822 non-null  float64\n",
      " 20  Total Cases per Million      31822 non-null  float64\n",
      " 21  New Deaths per Million       31822 non-null  float64\n",
      " 22  Total Deaths per Million     31822 non-null  float64\n",
      " 23  Total Deaths per 100rb       31822 non-null  float64\n",
      " 24  Growth Factor of New Cases   29883 non-null  float64\n",
      " 25  Growth Factor of New Deaths  28375 non-null  float64\n",
      "dtypes: float64(14), int64(12)\n",
      "memory usage: 6.3 MB\n"
     ]
    }
   ],
   "source": [
    "df_num = df.select_dtypes(include=np.number)\n",
    "df_num.info()"
   ]
  },
  {
   "cell_type": "markdown",
   "metadata": {},
   "source": [
    "Cek dan Handle missing value"
   ]
  },
  {
   "cell_type": "code",
   "execution_count": 16,
   "metadata": {},
   "outputs": [
    {
     "data": {
      "text/plain": [
       "New Cases                          0\n",
       "New Deaths                         0\n",
       "New Recovered                      0\n",
       "New Active Cases                   0\n",
       "Total Cases                        0\n",
       "Total Deaths                       0\n",
       "Total Recovered                    0\n",
       "Total Active Cases                 0\n",
       "City or Regency                31822\n",
       "Total Regencies                    0\n",
       "Total Cities                     901\n",
       "Total Districts                    0\n",
       "Total Urban Villages             904\n",
       "Total Rural Villages             929\n",
       "Area (km2)                         0\n",
       "Population                         0\n",
       "Population Density                 0\n",
       "Longitude                          0\n",
       "Latitude                           0\n",
       "New Cases per Million              0\n",
       "Total Cases per Million            0\n",
       "New Deaths per Million             0\n",
       "Total Deaths per Million           0\n",
       "Total Deaths per 100rb             0\n",
       "Growth Factor of New Cases      1939\n",
       "Growth Factor of New Deaths     3447\n",
       "dtype: int64"
      ]
     },
     "execution_count": 16,
     "metadata": {},
     "output_type": "execute_result"
    }
   ],
   "source": [
    "df_num.isnull().sum()"
   ]
  },
  {
   "attachments": {},
   "cell_type": "markdown",
   "metadata": {},
   "source": [
    "Handling Missing Value Kolom City or Regency"
   ]
  },
  {
   "cell_type": "code",
   "execution_count": 17,
   "metadata": {},
   "outputs": [
    {
     "data": {
      "text/plain": [
       "Series([], Name: City or Regency, dtype: int64)"
      ]
     },
     "execution_count": 17,
     "metadata": {},
     "output_type": "execute_result"
    }
   ],
   "source": [
    "df_num['City or Regency'].value_counts()"
   ]
  },
  {
   "cell_type": "code",
   "execution_count": 18,
   "metadata": {},
   "outputs": [],
   "source": [
    "# Drop kolom city or regency karena tidak memiliki data apa pun\n",
    "df_num.drop(columns='City or Regency', inplace=True)"
   ]
  },
  {
   "attachments": {},
   "cell_type": "markdown",
   "metadata": {},
   "source": [
    "Cek distribusi kolom yang ada missing value"
   ]
  },
  {
   "cell_type": "code",
   "execution_count": 42,
   "metadata": {},
   "outputs": [
    {
     "name": "stdout",
     "output_type": "stream",
     "text": [
      "Skewness value Total Cities :  5.414859985068091\n",
      "Skewness value Total Urban Villages :  5.386605547155009\n",
      "Skewness value Total Rural Villages :  5.36153307069668\n",
      "Skewness value Growth Factor of New Cases :  24.129051011679582\n",
      "Skewness value Growth Factor of New Deaths :  39.289569553723936\n"
     ]
    },
    {
     "data": {
      "image/png": "[encoded data removed]",
      "text/plain": [
       "<Figure size 1000x500 with 1 Axes>"
      ]
     },
     "metadata": {},
     "output_type": "display_data"
    },
    {
     "data": {
      "image/png": "[encoded data removed]",
      "text/plain": [
       "<Figure size 1000x500 with 1 Axes>"
      ]
     },
     "metadata": {},
     "output_type": "display_data"
    },
    {
     "data": {
      "image/png": "[encoded data removed]",
      "text/plain": [
       "<Figure size 1000x500 with 1 Axes>"
      ]
     },
     "metadata": {},
     "output_type": "display_data"
    },
    {
     "data": {
      "image/png": "[encoded data removed]",
      "text/plain": [
       "<Figure size 1000x500 with 1 Axes>"
      ]
     },
     "metadata": {},
     "output_type": "display_data"
    },
    {
     "data": {
      "image/png": "[encoded data removed]",
      "text/plain": [
       "<Figure size 1000x500 with 1 Axes>"
      ]
     },
     "metadata": {},
     "output_type": "display_data"
    }
   ],
   "source": [
    "print('Skewness value Total Cities : ', df_num['Total Cities'].skew())\n",
    "print('Skewness value Total Urban Villages : ', df_num['Total Urban Villages'].skew())\n",
    "print('Skewness value Total Rural Villages : ', df_num['Total Rural Villages'].skew())\n",
    "print('Skewness value Growth Factor of New Cases : ', df_num['Growth Factor of New Cases'].skew())\n",
    "print('Skewness value Growth Factor of New Deaths : ', df_num['Growth Factor of New Deaths'].skew())\n",
    "\n",
    "df_num['Total Cities'].hist(bins=50, figsize=(10,5), color='maroon')\n",
    "plt.show()\n",
    "df_num['Total Urban Villages'].hist(bins=50, figsize=(10,5), color='maroon')\n",
    "plt.show()\n",
    "df_num['Total Rural Villages'].hist(bins=50, figsize=(10,5), color='maroon')\n",
    "plt.show()\n",
    "df_num['Growth Factor of New Cases'].hist(bins=50, figsize=(10,5), color='maroon')\n",
    "plt.show()\n",
    "df_num['Growth Factor of New Deaths'].hist(bins=50, figsize=(10,5), color='maroon')\n",
    "plt.show()"
   ]
  },
  {
   "attachments": {},
   "cell_type": "markdown",
   "metadata": {},
   "source": [
    "Karena semua kolom memiliki distribusi tidak normal maka missing value di isi dengan median"
   ]
  },
  {
   "cell_type": "code",
   "execution_count": 46,
   "metadata": {},
   "outputs": [],
   "source": [
    "df_num.fillna({\n",
    "    'Total Cities' : df['Total Cities'].median(),\n",
    "    'Total Urban Villages' : df['Total Urban Villages'].median(),\n",
    "    'Total Rural Villages' : df['Total Rural Villages'].median(),\n",
    "    'Growth Factor of New Cases' : df['Growth Factor of New Cases'].median(),\n",
    "    'Growth Factor of New Deaths': df['Growth Factor of New Deaths'].median()    \n",
    "},inplace=True)"
   ]
  },
  {
   "cell_type": "markdown",
   "metadata": {},
   "source": [
    "Cek apakah sudah tidak ada missing value"
   ]
  },
  {
   "cell_type": "code",
   "execution_count": 47,
   "metadata": {},
   "outputs": [
    {
     "data": {
      "text/plain": [
       "New Cases                      0\n",
       "New Deaths                     0\n",
       "New Recovered                  0\n",
       "New Active Cases               0\n",
       "Total Cases                    0\n",
       "Total Deaths                   0\n",
       "Total Recovered                0\n",
       "Total Active Cases             0\n",
       "Total Regencies                0\n",
       "Total Cities                   0\n",
       "Total Districts                0\n",
       "Total Urban Villages           0\n",
       "Total Rural Villages           0\n",
       "Area (km2)                     0\n",
       "Population                     0\n",
       "Population Density             0\n",
       "Longitude                      0\n",
       "Latitude                       0\n",
       "New Cases per Million          0\n",
       "Total Cases per Million        0\n",
       "New Deaths per Million         0\n",
       "Total Deaths per Million       0\n",
       "Total Deaths per 100rb         0\n",
       "Growth Factor of New Cases     0\n",
       "Growth Factor of New Deaths    0\n",
       "dtype: int64"
      ]
     },
     "execution_count": 47,
     "metadata": {},
     "output_type": "execute_result"
    }
   ],
   "source": [
    "df_num.isnull().sum()"
   ]
  },
  {
   "cell_type": "markdown",
   "metadata": {},
   "source": [
    "#### Hasil"
   ]
  },
  {
   "attachments": {},
   "cell_type": "markdown",
   "metadata": {},
   "source": [
    "Measure of central tendency dan variance"
   ]
  },
  {
   "cell_type": "code",
   "execution_count": 60,
   "metadata": {},
   "outputs": [
    {
     "data": {
      "text/html": [
       "<div>\n",
       "<style scoped>\n",
       "    .dataframe tbody tr th:only-of-type {\n",
       "        vertical-align: middle;\n",
       "    }\n",
       "\n",
       "    .dataframe tbody tr th {\n",
       "        vertical-align: top;\n",
       "    }\n",
       "\n",
       "    .dataframe thead th {\n",
       "        text-align: right;\n",
       "    }\n",
       "</style>\n",
       "<table border=\"1\" class=\"dataframe\">\n",
       "  <thead>\n",
       "    <tr style=\"text-align: right;\">\n",
       "      <th></th>\n",
       "      <th>New Cases</th>\n",
       "      <th>New Deaths</th>\n",
       "      <th>New Recovered</th>\n",
       "      <th>New Active Cases</th>\n",
       "      <th>Total Cases</th>\n",
       "      <th>Total Deaths</th>\n",
       "      <th>Total Recovered</th>\n",
       "      <th>Total Active Cases</th>\n",
       "      <th>Total Regencies</th>\n",
       "      <th>Total Cities</th>\n",
       "      <th>Total Districts</th>\n",
       "      <th>Total Urban Villages</th>\n",
       "      <th>Total Rural Villages</th>\n",
       "      <th>Area (km2)</th>\n",
       "      <th>Population</th>\n",
       "      <th>Population Density</th>\n",
       "      <th>Longitude</th>\n",
       "      <th>Latitude</th>\n",
       "      <th>New Cases per Million</th>\n",
       "      <th>Total Cases per Million</th>\n",
       "      <th>New Deaths per Million</th>\n",
       "      <th>Total Deaths per Million</th>\n",
       "      <th>Total Deaths per 100rb</th>\n",
       "      <th>Growth Factor of New Cases</th>\n",
       "      <th>Growth Factor of New Deaths</th>\n",
       "    </tr>\n",
       "  </thead>\n",
       "  <tbody>\n",
       "    <tr>\n",
       "      <th>count</th>\n",
       "      <td>31822.000000</td>\n",
       "      <td>31822.000000</td>\n",
       "      <td>31822.000000</td>\n",
       "      <td>31822.000000</td>\n",
       "      <td>3.182200e+04</td>\n",
       "      <td>31822.000000</td>\n",
       "      <td>3.182200e+04</td>\n",
       "      <td>31822.000000</td>\n",
       "      <td>31822.000000</td>\n",
       "      <td>31822.000000</td>\n",
       "      <td>31822.000000</td>\n",
       "      <td>31822.000000</td>\n",
       "      <td>31822.000000</td>\n",
       "      <td>3.182200e+04</td>\n",
       "      <td>3.182200e+04</td>\n",
       "      <td>31822.000000</td>\n",
       "      <td>31822.000000</td>\n",
       "      <td>31822.000000</td>\n",
       "      <td>31822.000000</td>\n",
       "      <td>31822.000000</td>\n",
       "      <td>31822.000000</td>\n",
       "      <td>31822.000000</td>\n",
       "      <td>31822.000000</td>\n",
       "      <td>31822.000000</td>\n",
       "      <td>31822.000000</td>\n",
       "    </tr>\n",
       "    <tr>\n",
       "      <th>mean</th>\n",
       "      <td>402.311388</td>\n",
       "      <td>9.920652</td>\n",
       "      <td>390.398498</td>\n",
       "      <td>1.992238</td>\n",
       "      <td>1.594500e+05</td>\n",
       "      <td>4564.753221</td>\n",
       "      <td>1.492615e+05</td>\n",
       "      <td>5623.782415</td>\n",
       "      <td>24.027277</td>\n",
       "      <td>5.727233</td>\n",
       "      <td>417.952297</td>\n",
       "      <td>496.124694</td>\n",
       "      <td>4378.663472</td>\n",
       "      <td>1.106532e+05</td>\n",
       "      <td>1.536766e+07</td>\n",
       "      <td>738.894928</td>\n",
       "      <td>113.700478</td>\n",
       "      <td>-2.725681</td>\n",
       "      <td>28.133292</td>\n",
       "      <td>11485.038800</td>\n",
       "      <td>0.640308</td>\n",
       "      <td>289.633640</td>\n",
       "      <td>28.963329</td>\n",
       "      <td>1.306883</td>\n",
       "      <td>1.030169</td>\n",
       "    </tr>\n",
       "    <tr>\n",
       "      <th>std</th>\n",
       "      <td>2320.629838</td>\n",
       "      <td>64.139080</td>\n",
       "      <td>2199.878802</td>\n",
       "      <td>1219.513355</td>\n",
       "      <td>6.264435e+05</td>\n",
       "      <td>17693.731369</td>\n",
       "      <td>5.958536e+05</td>\n",
       "      <td>28537.412305</td>\n",
       "      <td>68.359734</td>\n",
       "      <td>16.168939</td>\n",
       "      <td>1192.995149</td>\n",
       "      <td>1402.800771</td>\n",
       "      <td>12407.123584</td>\n",
       "      <td>3.187865e+05</td>\n",
       "      <td>4.461714e+07</td>\n",
       "      <td>2729.431626</td>\n",
       "      <td>9.862068</td>\n",
       "      <td>3.608065</td>\n",
       "      <td>74.309710</td>\n",
       "      <td>16477.385479</td>\n",
       "      <td>1.933016</td>\n",
       "      <td>363.428724</td>\n",
       "      <td>36.342881</td>\n",
       "      <td>2.597639</td>\n",
       "      <td>1.276486</td>\n",
       "    </tr>\n",
       "    <tr>\n",
       "      <th>min</th>\n",
       "      <td>0.000000</td>\n",
       "      <td>0.000000</td>\n",
       "      <td>0.000000</td>\n",
       "      <td>-29938.000000</td>\n",
       "      <td>1.000000e+00</td>\n",
       "      <td>0.000000</td>\n",
       "      <td>0.000000e+00</td>\n",
       "      <td>-2343.000000</td>\n",
       "      <td>1.000000</td>\n",
       "      <td>1.000000</td>\n",
       "      <td>44.000000</td>\n",
       "      <td>35.000000</td>\n",
       "      <td>275.000000</td>\n",
       "      <td>6.640000e+02</td>\n",
       "      <td>6.484070e+05</td>\n",
       "      <td>8.590000</td>\n",
       "      <td>96.910522</td>\n",
       "      <td>-8.682205</td>\n",
       "      <td>0.000000</td>\n",
       "      <td>0.010000</td>\n",
       "      <td>0.000000</td>\n",
       "      <td>0.000000</td>\n",
       "      <td>0.000000</td>\n",
       "      <td>0.000000</td>\n",
       "      <td>0.000000</td>\n",
       "    </tr>\n",
       "    <tr>\n",
       "      <th>25%</th>\n",
       "      <td>3.000000</td>\n",
       "      <td>0.000000</td>\n",
       "      <td>2.000000</td>\n",
       "      <td>-12.000000</td>\n",
       "      <td>5.223250e+03</td>\n",
       "      <td>128.000000</td>\n",
       "      <td>3.913500e+03</td>\n",
       "      <td>80.000000</td>\n",
       "      <td>7.000000</td>\n",
       "      <td>1.000000</td>\n",
       "      <td>103.000000</td>\n",
       "      <td>99.000000</td>\n",
       "      <td>928.000000</td>\n",
       "      <td>1.678700e+04</td>\n",
       "      <td>1.999539e+06</td>\n",
       "      <td>47.790000</td>\n",
       "      <td>106.109004</td>\n",
       "      <td>-6.204699</td>\n",
       "      <td>0.830000</td>\n",
       "      <td>1291.367500</td>\n",
       "      <td>0.000000</td>\n",
       "      <td>38.862500</td>\n",
       "      <td>3.890000</td>\n",
       "      <td>0.670000</td>\n",
       "      <td>0.880000</td>\n",
       "    </tr>\n",
       "    <tr>\n",
       "      <th>50%</th>\n",
       "      <td>27.000000</td>\n",
       "      <td>0.000000</td>\n",
       "      <td>20.000000</td>\n",
       "      <td>0.000000</td>\n",
       "      <td>2.359650e+04</td>\n",
       "      <td>565.500000</td>\n",
       "      <td>2.102750e+04</td>\n",
       "      <td>557.000000</td>\n",
       "      <td>11.000000</td>\n",
       "      <td>2.000000</td>\n",
       "      <td>169.000000</td>\n",
       "      <td>175.000000</td>\n",
       "      <td>1591.000000</td>\n",
       "      <td>4.201300e+04</td>\n",
       "      <td>4.216171e+06</td>\n",
       "      <td>103.840000</td>\n",
       "      <td>113.417654</td>\n",
       "      <td>-2.461746</td>\n",
       "      <td>5.710000</td>\n",
       "      <td>6804.285000</td>\n",
       "      <td>0.000000</td>\n",
       "      <td>158.415000</td>\n",
       "      <td>15.840000</td>\n",
       "      <td>1.000000</td>\n",
       "      <td>1.000000</td>\n",
       "    </tr>\n",
       "    <tr>\n",
       "      <th>75%</th>\n",
       "      <td>130.000000</td>\n",
       "      <td>3.000000</td>\n",
       "      <td>123.000000</td>\n",
       "      <td>19.000000</td>\n",
       "      <td>6.992775e+04</td>\n",
       "      <td>2189.000000</td>\n",
       "      <td>6.414200e+04</td>\n",
       "      <td>2279.000000</td>\n",
       "      <td>18.000000</td>\n",
       "      <td>4.000000</td>\n",
       "      <td>289.000000</td>\n",
       "      <td>332.000000</td>\n",
       "      <td>2853.000000</td>\n",
       "      <td>7.546800e+04</td>\n",
       "      <td>9.095591e+06</td>\n",
       "      <td>262.700000</td>\n",
       "      <td>121.201093</td>\n",
       "      <td>0.212037</td>\n",
       "      <td>22.290000</td>\n",
       "      <td>14557.360000</td>\n",
       "      <td>0.540000</td>\n",
       "      <td>389.910000</td>\n",
       "      <td>38.990000</td>\n",
       "      <td>1.250000</td>\n",
       "      <td>1.000000</td>\n",
       "    </tr>\n",
       "    <tr>\n",
       "      <th>max</th>\n",
       "      <td>64718.000000</td>\n",
       "      <td>2069.000000</td>\n",
       "      <td>61361.000000</td>\n",
       "      <td>39165.000000</td>\n",
       "      <td>6.405044e+06</td>\n",
       "      <td>157876.000000</td>\n",
       "      <td>6.218708e+06</td>\n",
       "      <td>586113.000000</td>\n",
       "      <td>416.000000</td>\n",
       "      <td>98.000000</td>\n",
       "      <td>7230.000000</td>\n",
       "      <td>8488.000000</td>\n",
       "      <td>74953.000000</td>\n",
       "      <td>1.916907e+06</td>\n",
       "      <td>2.651855e+08</td>\n",
       "      <td>16334.310000</td>\n",
       "      <td>138.696030</td>\n",
       "      <td>4.225615</td>\n",
       "      <td>1459.040000</td>\n",
       "      <td>130231.620000</td>\n",
       "      <td>63.800000</td>\n",
       "      <td>1632.600000</td>\n",
       "      <td>163.260000</td>\n",
       "      <td>175.000000</td>\n",
       "      <td>134.500000</td>\n",
       "    </tr>\n",
       "  </tbody>\n",
       "</table>\n",
       "</div>"
      ],
      "text/plain": [
       "          New Cases    New Deaths  New Recovered  New Active Cases  \\\n",
       "count  31822.000000  31822.000000   31822.000000      31822.000000   \n",
       "mean     402.311388      9.920652     390.398498          1.992238   \n",
       "std     2320.629838     64.139080    2199.878802       1219.513355   \n",
       "min        0.000000      0.000000       0.000000     -29938.000000   \n",
       "25%        3.000000      0.000000       2.000000        -12.000000   \n",
       "50%       27.000000      0.000000      20.000000          0.000000   \n",
       "75%      130.000000      3.000000     123.000000         19.000000   \n",
       "max    64718.000000   2069.000000   61361.000000      39165.000000   \n",
       "\n",
       "        Total Cases   Total Deaths  Total Recovered  Total Active Cases  \\\n",
       "count  3.182200e+04   31822.000000     3.182200e+04        31822.000000   \n",
       "mean   1.594500e+05    4564.753221     1.492615e+05         5623.782415   \n",
       "std    6.264435e+05   17693.731369     5.958536e+05        28537.412305   \n",
       "min    1.000000e+00       0.000000     0.000000e+00        -2343.000000   \n",
       "25%    5.223250e+03     128.000000     3.913500e+03           80.000000   \n",
       "50%    2.359650e+04     565.500000     2.102750e+04          557.000000   \n",
       "75%    6.992775e+04    2189.000000     6.414200e+04         2279.000000   \n",
       "max    6.405044e+06  157876.000000     6.218708e+06       586113.000000   \n",
       "\n",
       "       Total Regencies  Total Cities  Total Districts  Total Urban Villages  \\\n",
       "count     31822.000000  31822.000000     31822.000000          31822.000000   \n",
       "mean         24.027277      5.727233       417.952297            496.124694   \n",
       "std          68.359734     16.168939      1192.995149           1402.800771   \n",
       "min           1.000000      1.000000        44.000000             35.000000   \n",
       "25%           7.000000      1.000000       103.000000             99.000000   \n",
       "50%          11.000000      2.000000       169.000000            175.000000   \n",
       "75%          18.000000      4.000000       289.000000            332.000000   \n",
       "max         416.000000     98.000000      7230.000000           8488.000000   \n",
       "\n",
       "       Total Rural Villages    Area (km2)    Population  Population Density  \\\n",
       "count          31822.000000  3.182200e+04  3.182200e+04        31822.000000   \n",
       "mean            4378.663472  1.106532e+05  1.536766e+07          738.894928   \n",
       "std            12407.123584  3.187865e+05  4.461714e+07         2729.431626   \n",
       "min              275.000000  6.640000e+02  6.484070e+05            8.590000   \n",
       "25%              928.000000  1.678700e+04  1.999539e+06           47.790000   \n",
       "50%             1591.000000  4.201300e+04  4.216171e+06          103.840000   \n",
       "75%             2853.000000  7.546800e+04  9.095591e+06          262.700000   \n",
       "max            74953.000000  1.916907e+06  2.651855e+08        16334.310000   \n",
       "\n",
       "          Longitude      Latitude  New Cases per Million  \\\n",
       "count  31822.000000  31822.000000           31822.000000   \n",
       "mean     113.700478     -2.725681              28.133292   \n",
       "std        9.862068      3.608065              74.309710   \n",
       "min       96.910522     -8.682205               0.000000   \n",
       "25%      106.109004     -6.204699               0.830000   \n",
       "50%      113.417654     -2.461746               5.710000   \n",
       "75%      121.201093      0.212037              22.290000   \n",
       "max      138.696030      4.225615            1459.040000   \n",
       "\n",
       "       Total Cases per Million  New Deaths per Million  \\\n",
       "count             31822.000000            31822.000000   \n",
       "mean              11485.038800                0.640308   \n",
       "std               16477.385479                1.933016   \n",
       "min                   0.010000                0.000000   \n",
       "25%                1291.367500                0.000000   \n",
       "50%                6804.285000                0.000000   \n",
       "75%               14557.360000                0.540000   \n",
       "max              130231.620000               63.800000   \n",
       "\n",
       "       Total Deaths per Million  Total Deaths per 100rb  \\\n",
       "count              31822.000000            31822.000000   \n",
       "mean                 289.633640               28.963329   \n",
       "std                  363.428724               36.342881   \n",
       "min                    0.000000                0.000000   \n",
       "25%                   38.862500                3.890000   \n",
       "50%                  158.415000               15.840000   \n",
       "75%                  389.910000               38.990000   \n",
       "max                 1632.600000              163.260000   \n",
       "\n",
       "       Growth Factor of New Cases  Growth Factor of New Deaths  \n",
       "count                31822.000000                 31822.000000  \n",
       "mean                     1.306883                     1.030169  \n",
       "std                      2.597639                     1.276486  \n",
       "min                      0.000000                     0.000000  \n",
       "25%                      0.670000                     0.880000  \n",
       "50%                      1.000000                     1.000000  \n",
       "75%                      1.250000                     1.000000  \n",
       "max                    175.000000                   134.500000  "
      ]
     },
     "execution_count": 60,
     "metadata": {},
     "output_type": "execute_result"
    }
   ],
   "source": [
    "df_num.describe()"
   ]
  },
  {
   "cell_type": "code",
   "execution_count": 65,
   "metadata": {},
   "outputs": [
    {
     "data": {
      "text/plain": [
       "New Cases                      5.385323e+06\n",
       "New Deaths                     4.113822e+03\n",
       "New Recovered                  4.839467e+06\n",
       "New Active Cases               1.487213e+06\n",
       "Total Cases                    3.924314e+11\n",
       "Total Deaths                   3.130681e+08\n",
       "Total Recovered                3.550415e+11\n",
       "Total Active Cases             8.143839e+08\n",
       "Total Regencies                4.673053e+03\n",
       "Total Cities                   2.614346e+02\n",
       "Total Districts                1.423237e+06\n",
       "Total Urban Villages           1.967850e+06\n",
       "Total Rural Villages           1.539367e+08\n",
       "Area (km2)                     1.016248e+11\n",
       "Population                     1.990689e+15\n",
       "Population Density             7.449797e+06\n",
       "Longitude                      9.726039e+01\n",
       "Latitude                       1.301813e+01\n",
       "New Cases per Million          5.521933e+03\n",
       "Total Cases per Million        2.715042e+08\n",
       "New Deaths per Million         3.736552e+00\n",
       "Total Deaths per Million       1.320804e+05\n",
       "Total Deaths per 100rb         1.320805e+03\n",
       "Growth Factor of New Cases     6.747731e+00\n",
       "Growth Factor of New Deaths    1.629417e+00\n",
       "dtype: float64"
      ]
     },
     "execution_count": 65,
     "metadata": {},
     "output_type": "execute_result"
    }
   ],
   "source": [
    "df_num.var()"
   ]
  },
  {
   "cell_type": "code",
   "execution_count": null,
   "metadata": {},
   "outputs": [],
   "source": []
  }
 ],
 "metadata": {
  "kernelspec": {
   "display_name": "Python 3.9.13 ('base')",
   "language": "python",
   "name": "python3"
  },
  "language_info": {
   "codemirror_mode": {
    "name": "ipython",
    "version": 3
   },
   "file_extension": ".py",
   "mimetype": "text/x-python",
   "name": "python",
   "nbconvert_exporter": "python",
   "pygments_lexer": "ipython3",
   "version": "3.9.13"
  },
  "orig_nbformat": 4,
  "vscode": {
   "interpreter": {
    "hash": "88279d2366fe020547cde40dd65aa0e3aa662a6ec1f3ca12d88834876c85e1a6"
   }
  }
 },
 "nbformat": 4,
 "nbformat_minor": 2
}
